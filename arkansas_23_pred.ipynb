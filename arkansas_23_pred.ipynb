{
  "nbformat": 4,
  "nbformat_minor": 0,
  "metadata": {
    "colab": {
      "provenance": []
    },
    "kernelspec": {
      "name": "python3",
      "display_name": "Python 3"
    },
    "language_info": {
      "name": "python"
    }
  },
  "cells": [
    {
      "cell_type": "code",
      "execution_count": null,
      "metadata": {
        "id": "GMEv-VmPUjmJ"
      },
      "outputs": [],
      "source": [
        "#Import libraries needed\n",
        "import pandas as pd\n",
        "import numpy as np\n",
        "import matplotlib.pyplot as plt\n",
        "import seaborn as sns\n",
        "from sklearn.linear_model import LinearRegression\n",
        "from sklearn.metrics import mean_squared_error as mse\n",
        "from sklearn.model_selection import train_test_split\n",
        "from sklearn.cluster import KMeans"
      ]
    },
    {
      "cell_type": "code",
      "source": [
        "#Import datasets (both Arkansas and Alabama)\n",
        "arkansas = pd.read_csv(\"ark_stats_edited.csv\")"
      ],
      "metadata": {
        "id": "wCmLVnFRzwbU"
      },
      "execution_count": null,
      "outputs": []
    },
    {
      "cell_type": "code",
      "source": [
        "#See the data\n",
        "arkansas.head(5)"
      ],
      "metadata": {
        "colab": {
          "base_uri": "https://localhost:8080/",
          "height": 342
        },
        "id": "vFA2QvW62bKp",
        "outputId": "4f0f6e7b-1941-442d-f046-0462cfe40b49"
      },
      "execution_count": null,
      "outputs": [
        {
          "output_type": "execute_result",
          "data": {
            "text/plain": [
              "      GameId  Week     Team           Opponent  Offense Plays  Offense Drives  \\\n",
              "0  401520149     1  Alabama   Middle Tennessee             41               8   \n",
              "1  401520183     2  Alabama              Texas             62              12   \n",
              "2  401520244     3  Alabama      South Florida             65              12   \n",
              "3  401520250     4  Alabama           Ole Miss             64              11   \n",
              "4  401520285     5  Alabama  Mississippi State             52              10   \n",
              "\n",
              "   Offense Ppa  Offense TotalPPA  Offense SuccessRate  Offense Explosiveness  \\\n",
              "0     0.535129         21.940280             0.585366               1.259973   \n",
              "1     0.205370         12.732942             0.354839               1.595022   \n",
              "2     0.050696          3.295265             0.384615               1.212931   \n",
              "3     0.141250          9.040023             0.437500               1.118141   \n",
              "4     0.297859         15.488651             0.500000               1.258700   \n",
              "\n",
              "   ...  Defense PassingDowns SuccessRate  Defense PassingDowns Explosiveness  \\\n",
              "0  ...                          0.142857                            1.757869   \n",
              "1  ...                          0.285714                            2.677466   \n",
              "2  ...                          0.250000                            1.810627   \n",
              "3  ...                          0.296296                            2.547461   \n",
              "4  ...                          0.400000                            1.852233   \n",
              "\n",
              "   Defense RushingPlays Ppa  Defense RushingPlays TotalPPA  \\\n",
              "0                  0.413509                       4.548595   \n",
              "1                 -0.045244                      -1.674015   \n",
              "2                  0.090250                       3.700233   \n",
              "3                  0.113546                       2.725110   \n",
              "4                  0.227619                       6.373334   \n",
              "\n",
              "   Defense RushingPlays SuccessRate  Defense RushingPlays Explosiveness  \\\n",
              "0                          0.727273                            0.799243   \n",
              "1                          0.351351                            1.036885   \n",
              "2                          0.268293                            1.679494   \n",
              "3                          0.250000                            1.297593   \n",
              "4                          0.357143                            1.381140   \n",
              "\n",
              "   Defense PassingPlays Ppa  Defense PassingPlays TotalPPA  \\\n",
              "0                  0.029846                       0.716300   \n",
              "1                  0.470699                      17.886560   \n",
              "2                 -0.377189                     -12.070044   \n",
              "3                  0.293157                      11.139959   \n",
              "4                 -0.133238                      -3.597414   \n",
              "\n",
              "   Defense PassingPlays SuccessRate  Defense PassingPlays Explosiveness  \n",
              "0                          0.250000                            1.292497  \n",
              "1                          0.368421                            2.073817  \n",
              "2                          0.218750                            0.918594  \n",
              "3                          0.368421                            1.768980  \n",
              "4                          0.296296                            1.557289  \n",
              "\n",
              "[5 rows x 60 columns]"
            ],
            "text/html": [
              "\n",
              "  <div id=\"df-d4b7bd9a-4fc0-4ab4-8b27-c7da62dc84a1\" class=\"colab-df-container\">\n",
              "    <div>\n",
              "<style scoped>\n",
              "    .dataframe tbody tr th:only-of-type {\n",
              "        vertical-align: middle;\n",
              "    }\n",
              "\n",
              "    .dataframe tbody tr th {\n",
              "        vertical-align: top;\n",
              "    }\n",
              "\n",
              "    .dataframe thead th {\n",
              "        text-align: right;\n",
              "    }\n",
              "</style>\n",
              "<table border=\"1\" class=\"dataframe\">\n",
              "  <thead>\n",
              "    <tr style=\"text-align: right;\">\n",
              "      <th></th>\n",
              "      <th>GameId</th>\n",
              "      <th>Week</th>\n",
              "      <th>Team</th>\n",
              "      <th>Opponent</th>\n",
              "      <th>Offense Plays</th>\n",
              "      <th>Offense Drives</th>\n",
              "      <th>Offense Ppa</th>\n",
              "      <th>Offense TotalPPA</th>\n",
              "      <th>Offense SuccessRate</th>\n",
              "      <th>Offense Explosiveness</th>\n",
              "      <th>...</th>\n",
              "      <th>Defense PassingDowns SuccessRate</th>\n",
              "      <th>Defense PassingDowns Explosiveness</th>\n",
              "      <th>Defense RushingPlays Ppa</th>\n",
              "      <th>Defense RushingPlays TotalPPA</th>\n",
              "      <th>Defense RushingPlays SuccessRate</th>\n",
              "      <th>Defense RushingPlays Explosiveness</th>\n",
              "      <th>Defense PassingPlays Ppa</th>\n",
              "      <th>Defense PassingPlays TotalPPA</th>\n",
              "      <th>Defense PassingPlays SuccessRate</th>\n",
              "      <th>Defense PassingPlays Explosiveness</th>\n",
              "    </tr>\n",
              "  </thead>\n",
              "  <tbody>\n",
              "    <tr>\n",
              "      <th>0</th>\n",
              "      <td>401520149</td>\n",
              "      <td>1</td>\n",
              "      <td>Alabama</td>\n",
              "      <td>Middle Tennessee</td>\n",
              "      <td>41</td>\n",
              "      <td>8</td>\n",
              "      <td>0.535129</td>\n",
              "      <td>21.940280</td>\n",
              "      <td>0.585366</td>\n",
              "      <td>1.259973</td>\n",
              "      <td>...</td>\n",
              "      <td>0.142857</td>\n",
              "      <td>1.757869</td>\n",
              "      <td>0.413509</td>\n",
              "      <td>4.548595</td>\n",
              "      <td>0.727273</td>\n",
              "      <td>0.799243</td>\n",
              "      <td>0.029846</td>\n",
              "      <td>0.716300</td>\n",
              "      <td>0.250000</td>\n",
              "      <td>1.292497</td>\n",
              "    </tr>\n",
              "    <tr>\n",
              "      <th>1</th>\n",
              "      <td>401520183</td>\n",
              "      <td>2</td>\n",
              "      <td>Alabama</td>\n",
              "      <td>Texas</td>\n",
              "      <td>62</td>\n",
              "      <td>12</td>\n",
              "      <td>0.205370</td>\n",
              "      <td>12.732942</td>\n",
              "      <td>0.354839</td>\n",
              "      <td>1.595022</td>\n",
              "      <td>...</td>\n",
              "      <td>0.285714</td>\n",
              "      <td>2.677466</td>\n",
              "      <td>-0.045244</td>\n",
              "      <td>-1.674015</td>\n",
              "      <td>0.351351</td>\n",
              "      <td>1.036885</td>\n",
              "      <td>0.470699</td>\n",
              "      <td>17.886560</td>\n",
              "      <td>0.368421</td>\n",
              "      <td>2.073817</td>\n",
              "    </tr>\n",
              "    <tr>\n",
              "      <th>2</th>\n",
              "      <td>401520244</td>\n",
              "      <td>3</td>\n",
              "      <td>Alabama</td>\n",
              "      <td>South Florida</td>\n",
              "      <td>65</td>\n",
              "      <td>12</td>\n",
              "      <td>0.050696</td>\n",
              "      <td>3.295265</td>\n",
              "      <td>0.384615</td>\n",
              "      <td>1.212931</td>\n",
              "      <td>...</td>\n",
              "      <td>0.250000</td>\n",
              "      <td>1.810627</td>\n",
              "      <td>0.090250</td>\n",
              "      <td>3.700233</td>\n",
              "      <td>0.268293</td>\n",
              "      <td>1.679494</td>\n",
              "      <td>-0.377189</td>\n",
              "      <td>-12.070044</td>\n",
              "      <td>0.218750</td>\n",
              "      <td>0.918594</td>\n",
              "    </tr>\n",
              "    <tr>\n",
              "      <th>3</th>\n",
              "      <td>401520250</td>\n",
              "      <td>4</td>\n",
              "      <td>Alabama</td>\n",
              "      <td>Ole Miss</td>\n",
              "      <td>64</td>\n",
              "      <td>11</td>\n",
              "      <td>0.141250</td>\n",
              "      <td>9.040023</td>\n",
              "      <td>0.437500</td>\n",
              "      <td>1.118141</td>\n",
              "      <td>...</td>\n",
              "      <td>0.296296</td>\n",
              "      <td>2.547461</td>\n",
              "      <td>0.113546</td>\n",
              "      <td>2.725110</td>\n",
              "      <td>0.250000</td>\n",
              "      <td>1.297593</td>\n",
              "      <td>0.293157</td>\n",
              "      <td>11.139959</td>\n",
              "      <td>0.368421</td>\n",
              "      <td>1.768980</td>\n",
              "    </tr>\n",
              "    <tr>\n",
              "      <th>4</th>\n",
              "      <td>401520285</td>\n",
              "      <td>5</td>\n",
              "      <td>Alabama</td>\n",
              "      <td>Mississippi State</td>\n",
              "      <td>52</td>\n",
              "      <td>10</td>\n",
              "      <td>0.297859</td>\n",
              "      <td>15.488651</td>\n",
              "      <td>0.500000</td>\n",
              "      <td>1.258700</td>\n",
              "      <td>...</td>\n",
              "      <td>0.400000</td>\n",
              "      <td>1.852233</td>\n",
              "      <td>0.227619</td>\n",
              "      <td>6.373334</td>\n",
              "      <td>0.357143</td>\n",
              "      <td>1.381140</td>\n",
              "      <td>-0.133238</td>\n",
              "      <td>-3.597414</td>\n",
              "      <td>0.296296</td>\n",
              "      <td>1.557289</td>\n",
              "    </tr>\n",
              "  </tbody>\n",
              "</table>\n",
              "<p>5 rows × 60 columns</p>\n",
              "</div>\n",
              "    <div class=\"colab-df-buttons\">\n",
              "\n",
              "  <div class=\"colab-df-container\">\n",
              "    <button class=\"colab-df-convert\" onclick=\"convertToInteractive('df-d4b7bd9a-4fc0-4ab4-8b27-c7da62dc84a1')\"\n",
              "            title=\"Convert this dataframe to an interactive table.\"\n",
              "            style=\"display:none;\">\n",
              "\n",
              "  <svg xmlns=\"http://www.w3.org/2000/svg\" height=\"24px\" viewBox=\"0 -960 960 960\">\n",
              "    <path d=\"M120-120v-720h720v720H120Zm60-500h600v-160H180v160Zm220 220h160v-160H400v160Zm0 220h160v-160H400v160ZM180-400h160v-160H180v160Zm440 0h160v-160H620v160ZM180-180h160v-160H180v160Zm440 0h160v-160H620v160Z\"/>\n",
              "  </svg>\n",
              "    </button>\n",
              "\n",
              "  <style>\n",
              "    .colab-df-container {\n",
              "      display:flex;\n",
              "      gap: 12px;\n",
              "    }\n",
              "\n",
              "    .colab-df-convert {\n",
              "      background-color: #E8F0FE;\n",
              "      border: none;\n",
              "      border-radius: 50%;\n",
              "      cursor: pointer;\n",
              "      display: none;\n",
              "      fill: #1967D2;\n",
              "      height: 32px;\n",
              "      padding: 0 0 0 0;\n",
              "      width: 32px;\n",
              "    }\n",
              "\n",
              "    .colab-df-convert:hover {\n",
              "      background-color: #E2EBFA;\n",
              "      box-shadow: 0px 1px 2px rgba(60, 64, 67, 0.3), 0px 1px 3px 1px rgba(60, 64, 67, 0.15);\n",
              "      fill: #174EA6;\n",
              "    }\n",
              "\n",
              "    .colab-df-buttons div {\n",
              "      margin-bottom: 4px;\n",
              "    }\n",
              "\n",
              "    [theme=dark] .colab-df-convert {\n",
              "      background-color: #3B4455;\n",
              "      fill: #D2E3FC;\n",
              "    }\n",
              "\n",
              "    [theme=dark] .colab-df-convert:hover {\n",
              "      background-color: #434B5C;\n",
              "      box-shadow: 0px 1px 3px 1px rgba(0, 0, 0, 0.15);\n",
              "      filter: drop-shadow(0px 1px 2px rgba(0, 0, 0, 0.3));\n",
              "      fill: #FFFFFF;\n",
              "    }\n",
              "  </style>\n",
              "\n",
              "    <script>\n",
              "      const buttonEl =\n",
              "        document.querySelector('#df-d4b7bd9a-4fc0-4ab4-8b27-c7da62dc84a1 button.colab-df-convert');\n",
              "      buttonEl.style.display =\n",
              "        google.colab.kernel.accessAllowed ? 'block' : 'none';\n",
              "\n",
              "      async function convertToInteractive(key) {\n",
              "        const element = document.querySelector('#df-d4b7bd9a-4fc0-4ab4-8b27-c7da62dc84a1');\n",
              "        const dataTable =\n",
              "          await google.colab.kernel.invokeFunction('convertToInteractive',\n",
              "                                                    [key], {});\n",
              "        if (!dataTable) return;\n",
              "\n",
              "        const docLinkHtml = 'Like what you see? Visit the ' +\n",
              "          '<a target=\"_blank\" href=https://colab.research.google.com/notebooks/data_table.ipynb>data table notebook</a>'\n",
              "          + ' to learn more about interactive tables.';\n",
              "        element.innerHTML = '';\n",
              "        dataTable['output_type'] = 'display_data';\n",
              "        await google.colab.output.renderOutput(dataTable, element);\n",
              "        const docLink = document.createElement('div');\n",
              "        docLink.innerHTML = docLinkHtml;\n",
              "        element.appendChild(docLink);\n",
              "      }\n",
              "    </script>\n",
              "  </div>\n",
              "\n",
              "\n",
              "<div id=\"df-f3c92657-07be-4e87-91fe-d894d320611f\">\n",
              "  <button class=\"colab-df-quickchart\" onclick=\"quickchart('df-f3c92657-07be-4e87-91fe-d894d320611f')\"\n",
              "            title=\"Suggest charts.\"\n",
              "            style=\"display:none;\">\n",
              "\n",
              "<svg xmlns=\"http://www.w3.org/2000/svg\" height=\"24px\"viewBox=\"0 0 24 24\"\n",
              "     width=\"24px\">\n",
              "    <g>\n",
              "        <path d=\"M19 3H5c-1.1 0-2 .9-2 2v14c0 1.1.9 2 2 2h14c1.1 0 2-.9 2-2V5c0-1.1-.9-2-2-2zM9 17H7v-7h2v7zm4 0h-2V7h2v10zm4 0h-2v-4h2v4z\"/>\n",
              "    </g>\n",
              "</svg>\n",
              "  </button>\n",
              "\n",
              "<style>\n",
              "  .colab-df-quickchart {\n",
              "      --bg-color: #E8F0FE;\n",
              "      --fill-color: #1967D2;\n",
              "      --hover-bg-color: #E2EBFA;\n",
              "      --hover-fill-color: #174EA6;\n",
              "      --disabled-fill-color: #AAA;\n",
              "      --disabled-bg-color: #DDD;\n",
              "  }\n",
              "\n",
              "  [theme=dark] .colab-df-quickchart {\n",
              "      --bg-color: #3B4455;\n",
              "      --fill-color: #D2E3FC;\n",
              "      --hover-bg-color: #434B5C;\n",
              "      --hover-fill-color: #FFFFFF;\n",
              "      --disabled-bg-color: #3B4455;\n",
              "      --disabled-fill-color: #666;\n",
              "  }\n",
              "\n",
              "  .colab-df-quickchart {\n",
              "    background-color: var(--bg-color);\n",
              "    border: none;\n",
              "    border-radius: 50%;\n",
              "    cursor: pointer;\n",
              "    display: none;\n",
              "    fill: var(--fill-color);\n",
              "    height: 32px;\n",
              "    padding: 0;\n",
              "    width: 32px;\n",
              "  }\n",
              "\n",
              "  .colab-df-quickchart:hover {\n",
              "    background-color: var(--hover-bg-color);\n",
              "    box-shadow: 0 1px 2px rgba(60, 64, 67, 0.3), 0 1px 3px 1px rgba(60, 64, 67, 0.15);\n",
              "    fill: var(--button-hover-fill-color);\n",
              "  }\n",
              "\n",
              "  .colab-df-quickchart-complete:disabled,\n",
              "  .colab-df-quickchart-complete:disabled:hover {\n",
              "    background-color: var(--disabled-bg-color);\n",
              "    fill: var(--disabled-fill-color);\n",
              "    box-shadow: none;\n",
              "  }\n",
              "\n",
              "  .colab-df-spinner {\n",
              "    border: 2px solid var(--fill-color);\n",
              "    border-color: transparent;\n",
              "    border-bottom-color: var(--fill-color);\n",
              "    animation:\n",
              "      spin 1s steps(1) infinite;\n",
              "  }\n",
              "\n",
              "  @keyframes spin {\n",
              "    0% {\n",
              "      border-color: transparent;\n",
              "      border-bottom-color: var(--fill-color);\n",
              "      border-left-color: var(--fill-color);\n",
              "    }\n",
              "    20% {\n",
              "      border-color: transparent;\n",
              "      border-left-color: var(--fill-color);\n",
              "      border-top-color: var(--fill-color);\n",
              "    }\n",
              "    30% {\n",
              "      border-color: transparent;\n",
              "      border-left-color: var(--fill-color);\n",
              "      border-top-color: var(--fill-color);\n",
              "      border-right-color: var(--fill-color);\n",
              "    }\n",
              "    40% {\n",
              "      border-color: transparent;\n",
              "      border-right-color: var(--fill-color);\n",
              "      border-top-color: var(--fill-color);\n",
              "    }\n",
              "    60% {\n",
              "      border-color: transparent;\n",
              "      border-right-color: var(--fill-color);\n",
              "    }\n",
              "    80% {\n",
              "      border-color: transparent;\n",
              "      border-right-color: var(--fill-color);\n",
              "      border-bottom-color: var(--fill-color);\n",
              "    }\n",
              "    90% {\n",
              "      border-color: transparent;\n",
              "      border-bottom-color: var(--fill-color);\n",
              "    }\n",
              "  }\n",
              "</style>\n",
              "\n",
              "  <script>\n",
              "    async function quickchart(key) {\n",
              "      const quickchartButtonEl =\n",
              "        document.querySelector('#' + key + ' button');\n",
              "      quickchartButtonEl.disabled = true;  // To prevent multiple clicks.\n",
              "      quickchartButtonEl.classList.add('colab-df-spinner');\n",
              "      try {\n",
              "        const charts = await google.colab.kernel.invokeFunction(\n",
              "            'suggestCharts', [key], {});\n",
              "      } catch (error) {\n",
              "        console.error('Error during call to suggestCharts:', error);\n",
              "      }\n",
              "      quickchartButtonEl.classList.remove('colab-df-spinner');\n",
              "      quickchartButtonEl.classList.add('colab-df-quickchart-complete');\n",
              "    }\n",
              "    (() => {\n",
              "      let quickchartButtonEl =\n",
              "        document.querySelector('#df-f3c92657-07be-4e87-91fe-d894d320611f button');\n",
              "      quickchartButtonEl.style.display =\n",
              "        google.colab.kernel.accessAllowed ? 'block' : 'none';\n",
              "    })();\n",
              "  </script>\n",
              "</div>\n",
              "    </div>\n",
              "  </div>\n"
            ]
          },
          "metadata": {},
          "execution_count": 126
        }
      ]
    },
    {
      "cell_type": "code",
      "source": [
        "#Dropping columns\n",
        "arkansas = arkansas.drop(columns = [\"GameId\", \"Week\", \"Team\", \"Opponent\"])"
      ],
      "metadata": {
        "id": "uMDE1qnbF2WL"
      },
      "execution_count": null,
      "outputs": []
    },
    {
      "cell_type": "code",
      "source": [
        "corr = arkansas.corr()"
      ],
      "metadata": {
        "id": "J20THPQ3DVGW"
      },
      "execution_count": null,
      "outputs": []
    },
    {
      "cell_type": "code",
      "source": [
        "def get_redundant_pairs(df):\n",
        "    '''Get diagonal and lower triangular pairs of correlation matrix'''\n",
        "    pairs_to_drop = set()\n",
        "    cols = df.columns\n",
        "    for i in range(0, df.shape[1]):\n",
        "        for j in range(0, i+1):\n",
        "            pairs_to_drop.add((cols[i], cols[j]))\n",
        "    return pairs_to_drop\n",
        "\n",
        "def get_top_abs_correlations(df, n=5):\n",
        "    au_corr = df.corr().abs().unstack()\n",
        "    labels_to_drop = get_redundant_pairs(df)\n",
        "    au_corr = au_corr.drop(labels=labels_to_drop).sort_values(ascending=False)\n",
        "    return au_corr[0:n]\n",
        "\n",
        "print(\"Top Absolute Correlations\")\n",
        "print(get_top_abs_correlations(corr, 20))"
      ],
      "metadata": {
        "colab": {
          "base_uri": "https://localhost:8080/"
        },
        "id": "TRnIlLVtDT04",
        "outputId": "f206857c-26d9-4812-fa07-14f58b8c78ab"
      },
      "execution_count": null,
      "outputs": [
        {
          "output_type": "stream",
          "name": "stdout",
          "text": [
            "Top Absolute Correlations\n",
            "Defense PassingPlays Ppa           Defense PassingPlays TotalPPA        0.997113\n",
            "Defense Plays                      Points                               0.992544\n",
            "Offense Ppa                        Offense StandardDowns Ppa            0.991101\n",
            "Defense SecondLevelYards           Defense RushingPlays SuccessRate     0.989973\n",
            "Defense Ppa                        Defense TotalPPA                     0.987564\n",
            "Offense Ppa                        Offense TotalPPA                     0.984833\n",
            "Defense OpenFieldYards             Defense StandardDowns Ppa            0.984350\n",
            "Offense SuccessRate                Offense StandardDowns SuccessRate    0.982776\n",
            "Offense OpenFieldYards             Offense OpenFieldYardsTotal          0.981921\n",
            "Defense StandardDowns SuccessRate  Defense RushingPlays SuccessRate     0.980722\n",
            "Offense TotalPPA                   Offense StandardDowns Ppa            0.978647\n",
            "Offense SuccessRate                Offense RushingPlays SuccessRate     0.977867\n",
            "Offense Drives                     Defense Drives                       0.977656\n",
            "Offense Ppa                        Offense PassingPlays Ppa             0.976192\n",
            "Defense TotalPPA                   Defense OpenFieldYards               0.975939\n",
            "Offense StandardDowns SuccessRate  Offense RushingPlays Ppa             0.974249\n",
            "Offense RushingPlays Ppa           Offense RushingPlays TotalPPA        0.973882\n",
            "Defense SecondLevelYards           Defense StandardDowns SuccessRate    0.972730\n",
            "Offense RushingPlays TotalPPA      Result                               0.968625\n",
            "Defense Ppa                        Defense OpenFieldYards               0.967790\n",
            "dtype: float64\n"
          ]
        }
      ]
    },
    {
      "cell_type": "code",
      "source": [
        "#For regression, we preproccess the data\n",
        "X = arkansas[[\"Defense Plays\"]]\n",
        "y = arkansas[[\"Points\"]]"
      ],
      "metadata": {
        "id": "7i4DlZhRHLuQ"
      },
      "execution_count": null,
      "outputs": []
    },
    {
      "cell_type": "code",
      "source": [
        "#Split the data for training and testing\n",
        "Xtrain, Xtest, ytrain, ytest = train_test_split(X, y, test_size = 0.3)"
      ],
      "metadata": {
        "id": "AmXn_JTV0cYl"
      },
      "execution_count": null,
      "outputs": []
    },
    {
      "cell_type": "code",
      "source": [
        "#Apply linear regression\n",
        "reg = LinearRegression().fit(X, y)"
      ],
      "metadata": {
        "id": "l-5OE71R0hhv"
      },
      "execution_count": null,
      "outputs": []
    },
    {
      "cell_type": "code",
      "source": [
        "#Compute training error\n",
        "mse_train = mse(ytrain, reg.predict(Xtrain))\n",
        "print(mse_train)\n",
        "\n",
        "#Compute testing error\n",
        "mse_test = mse(ytest, reg.predict(Xtest))\n",
        "print(mse_test)"
      ],
      "metadata": {
        "colab": {
          "base_uri": "https://localhost:8080/"
        },
        "id": "GvvLub350rfX",
        "outputId": "6cf002ae-7eda-4707-c51b-e31cfaef9995"
      },
      "execution_count": null,
      "outputs": [
        {
          "output_type": "stream",
          "name": "stdout",
          "text": [
            "1.5002711788428462\n",
            "6.184930807495415\n"
          ]
        }
      ]
    },
    {
      "cell_type": "code",
      "source": [
        "# Visualize the result\n",
        "import seaborn as sns\n",
        "sns.set(style=\"darkgrid\")\n",
        "fig, ax = plt.subplots()\n",
        "ax.scatter(arkansas[[\"Defense Plays\"]], y, marker='o')\n",
        "x_axis = np.linspace(np.min(arkansas[[\"Defense Plays\"]]), np.max(arkansas[[\"Defense Plays\"]]), 500)\n",
        "y_axis = reg.coef_[0,0] * x_axis + reg.intercept_\n",
        "ax.plot(x_axis, y_axis)\n",
        "plt.show()\n"
      ],
      "metadata": {
        "id": "_zMyf3Jy0tKi",
        "colab": {
          "base_uri": "https://localhost:8080/",
          "height": 525
        },
        "outputId": "f24df291-deb4-4d6e-9132-59f9882f3aa3"
      },
      "execution_count": null,
      "outputs": [
        {
          "output_type": "stream",
          "name": "stderr",
          "text": [
            "/usr/local/lib/python3.10/dist-packages/numpy/core/fromnumeric.py:84: FutureWarning: In a future version, DataFrame.min(axis=None) will return a scalar min over the entire DataFrame. To retain the old behavior, use 'frame.min(axis=0)' or just 'frame.min()'\n",
            "  return reduction(axis=axis, out=out, **passkwargs)\n",
            "/usr/local/lib/python3.10/dist-packages/numpy/core/fromnumeric.py:84: FutureWarning: In a future version, DataFrame.max(axis=None) will return a scalar max over the entire DataFrame. To retain the old behavior, use 'frame.max(axis=0)' or just 'frame.max()'\n",
            "  return reduction(axis=axis, out=out, **passkwargs)\n"
          ]
        },
        {
          "output_type": "display_data",
          "data": {
            "text/plain": [
              "<Figure size 640x480 with 1 Axes>"
            ],
            "image/png": "[encoded data removed]"
          },
          "metadata": {}
        }
      ]
    },
    {
      "cell_type": "code",
      "source": [
        "data = arkansas[[\"Offense Plays\", \"Defense Plays\", \"Result\"]]"
      ],
      "metadata": {
        "id": "VvKWNQHdFF7R"
      },
      "execution_count": null,
      "outputs": []
    },
    {
      "cell_type": "code",
      "source": [
        "#Try now with decision trees\n",
        "from sklearn.tree import DecisionTreeRegressor\n",
        "fig, ax = plt.subplots()\n",
        "sns.scatterplot(data=data, x=\"Offense Plays\", y=\"Defense Plays\", hue='Result', ax=ax)\n",
        "plt.show()\n"
      ],
      "metadata": {
        "colab": {
          "base_uri": "https://localhost:8080/",
          "height": 458
        },
        "id": "WfjiDfXBBi0o",
        "outputId": "519b0c3e-e032-461a-e17c-08485dc8ab96"
      },
      "execution_count": null,
      "outputs": [
        {
          "output_type": "display_data",
          "data": {
            "text/plain": [
              "<Figure size 640x480 with 1 Axes>"
            ],
            "image/png": "[encoded data removed]"
          },
          "metadata": {}
        }
      ]
    },
    {
      "cell_type": "code",
      "source": [
        "from sklearn.tree import DecisionTreeClassifier, plot_tree, DecisionTreeRegressor"
      ],
      "metadata": {
        "id": "jw4f-_z5FW0c"
      },
      "execution_count": null,
      "outputs": []
    },
    {
      "cell_type": "code",
      "source": [
        "X=data[[\"Offense Plays\", \"Defense Plays\"]].values # The features\n",
        "y=data['Result'].values # The labels"
      ],
      "metadata": {
        "id": "WVeOZdPJHwRm"
      },
      "execution_count": null,
      "outputs": []
    },
    {
      "cell_type": "code",
      "source": [
        "X_train, X_test, y_train, y_test = train_test_split(X, y, stratify=y, random_state=42)"
      ],
      "metadata": {
        "id": "rRka8fW_FXNy"
      },
      "execution_count": null,
      "outputs": []
    },
    {
      "cell_type": "code",
      "source": [
        "tree_clf = DecisionTreeClassifier(criterion='entropy', max_depth=2, random_state=42)"
      ],
      "metadata": {
        "id": "NTMfRj9iIIzY"
      },
      "execution_count": null,
      "outputs": []
    },
    {
      "cell_type": "code",
      "source": [
        "tree_clf.fit(X_train, y_train)"
      ],
      "metadata": {
        "colab": {
          "base_uri": "https://localhost:8080/",
          "height": 75
        },
        "id": "d52TGsW-INoo",
        "outputId": "41d097ae-775b-4aaf-d45f-fe92909afc44"
      },
      "execution_count": null,
      "outputs": [
        {
          "output_type": "execute_result",
          "data": {
            "text/plain": [
              "DecisionTreeClassifier(criterion='entropy', max_depth=2, random_state=42)"
            ],
            "text/html": [
              "<style>#sk-container-id-4 {color: black;background-color: white;}#sk-container-id-4 pre{padding: 0;}#sk-container-id-4 div.sk-toggleable {background-color: white;}#sk-container-id-4 label.sk-toggleable__label {cursor: pointer;display: block;width: 100%;margin-bottom: 0;padding: 0.3em;box-sizing: border-box;text-align: center;}#sk-container-id-4 label.sk-toggleable__label-arrow:before {content: \"▸\";float: left;margin-right: 0.25em;color: #696969;}#sk-container-id-4 label.sk-toggleable__label-arrow:hover:before {color: black;}#sk-container-id-4 div.sk-estimator:hover label.sk-toggleable__label-arrow:before {color: black;}#sk-container-id-4 div.sk-toggleable__content {max-height: 0;max-width: 0;overflow: hidden;text-align: left;background-color: #f0f8ff;}#sk-container-id-4 div.sk-toggleable__content pre {margin: 0.2em;color: black;border-radius: 0.25em;background-color: #f0f8ff;}#sk-container-id-4 input.sk-toggleable__control:checked~div.sk-toggleable__content {max-height: 200px;max-width: 100%;overflow: auto;}#sk-container-id-4 input.sk-toggleable__control:checked~label.sk-toggleable__label-arrow:before {content: \"▾\";}#sk-container-id-4 div.sk-estimator input.sk-toggleable__control:checked~label.sk-toggleable__label {background-color: #d4ebff;}#sk-container-id-4 div.sk-label input.sk-toggleable__control:checked~label.sk-toggleable__label {background-color: #d4ebff;}#sk-container-id-4 input.sk-hidden--visually {border: 0;clip: rect(1px 1px 1px 1px);clip: rect(1px, 1px, 1px, 1px);height: 1px;margin: -1px;overflow: hidden;padding: 0;position: absolute;width: 1px;}#sk-container-id-4 div.sk-estimator {font-family: monospace;background-color: #f0f8ff;border: 1px dotted black;border-radius: 0.25em;box-sizing: border-box;margin-bottom: 0.5em;}#sk-container-id-4 div.sk-estimator:hover {background-color: #d4ebff;}#sk-container-id-4 div.sk-parallel-item::after {content: \"\";width: 100%;border-bottom: 1px solid gray;flex-grow: 1;}#sk-container-id-4 div.sk-label:hover label.sk-toggleable__label {background-color: #d4ebff;}#sk-container-id-4 div.sk-serial::before {content: \"\";position: absolute;border-left: 1px solid gray;box-sizing: border-box;top: 0;bottom: 0;left: 50%;z-index: 0;}#sk-container-id-4 div.sk-serial {display: flex;flex-direction: column;align-items: center;background-color: white;padding-right: 0.2em;padding-left: 0.2em;position: relative;}#sk-container-id-4 div.sk-item {position: relative;z-index: 1;}#sk-container-id-4 div.sk-parallel {display: flex;align-items: stretch;justify-content: center;background-color: white;position: relative;}#sk-container-id-4 div.sk-item::before, #sk-container-id-4 div.sk-parallel-item::before {content: \"\";position: absolute;border-left: 1px solid gray;box-sizing: border-box;top: 0;bottom: 0;left: 50%;z-index: -1;}#sk-container-id-4 div.sk-parallel-item {display: flex;flex-direction: column;z-index: 1;position: relative;background-color: white;}#sk-container-id-4 div.sk-parallel-item:first-child::after {align-self: flex-end;width: 50%;}#sk-container-id-4 div.sk-parallel-item:last-child::after {align-self: flex-start;width: 50%;}#sk-container-id-4 div.sk-parallel-item:only-child::after {width: 0;}#sk-container-id-4 div.sk-dashed-wrapped {border: 1px dashed gray;margin: 0 0.4em 0.5em 0.4em;box-sizing: border-box;padding-bottom: 0.4em;background-color: white;}#sk-container-id-4 div.sk-label label {font-family: monospace;font-weight: bold;display: inline-block;line-height: 1.2em;}#sk-container-id-4 div.sk-label-container {text-align: center;}#sk-container-id-4 div.sk-container {/* jupyter's `normalize.less` sets `[hidden] { display: none; }` but bootstrap.min.css set `[hidden] { display: none !important; }` so we also need the `!important` here to be able to override the default hidden behavior on the sphinx rendered scikit-learn.org. See: https://github.com/scikit-learn/scikit-learn/issues/21755 */display: inline-block !important;position: relative;}#sk-container-id-4 div.sk-text-repr-fallback {display: none;}</style><div id=\"sk-container-id-4\" class=\"sk-top-container\"><div class=\"sk-text-repr-fallback\"><pre>DecisionTreeClassifier(criterion=&#x27;entropy&#x27;, max_depth=2, random_state=42)</pre><b>In a Jupyter environment, please rerun this cell to show the HTML representation or trust the notebook. <br />On GitHub, the HTML representation is unable to render, please try loading this page with nbviewer.org.</b></div><div class=\"sk-container\" hidden><div class=\"sk-item\"><div class=\"sk-estimator sk-toggleable\"><input class=\"sk-toggleable__control sk-hidden--visually\" id=\"sk-estimator-id-4\" type=\"checkbox\" checked><label for=\"sk-estimator-id-4\" class=\"sk-toggleable__label sk-toggleable__label-arrow\">DecisionTreeClassifier</label><div class=\"sk-toggleable__content\"><pre>DecisionTreeClassifier(criterion=&#x27;entropy&#x27;, max_depth=2, random_state=42)</pre></div></div></div></div></div>"
            ]
          },
          "metadata": {},
          "execution_count": 141
        }
      ]
    },
    {
      "cell_type": "code",
      "source": [
        "# plot_tree(tree_clf)\n",
        "plot_tree(tree_clf, feature_names=[\"Offense Plays\", \"Defense Plays\"], class_names=['lose', 'win'])"
      ],
      "metadata": {
        "colab": {
          "base_uri": "https://localhost:8080/",
          "height": 460
        },
        "id": "F5t2NjcNH_C9",
        "outputId": "48cfb2e7-b89e-450b-dcbe-5ebd4b576816"
      },
      "execution_count": null,
      "outputs": [
        {
          "output_type": "execute_result",
          "data": {
            "text/plain": [
              "[Text(0.5, 0.75, 'Defense Plays <= 55.5\\nentropy = 0.811\\nsamples = 4\\nvalue = [3, 1]\\nclass = lose'),\n",
              " Text(0.25, 0.25, 'entropy = 0.0\\nsamples = 1\\nvalue = [0, 1]\\nclass = win'),\n",
              " Text(0.75, 0.25, 'entropy = 0.0\\nsamples = 3\\nvalue = [3, 0]\\nclass = lose')]"
            ]
          },
          "metadata": {},
          "execution_count": 142
        },
        {
          "output_type": "display_data",
          "data": {
            "text/plain": [
              "<Figure size 640x480 with 1 Axes>"
            ],
            "image/png": "[encoded data removed]"
          },
          "metadata": {}
        }
      ]
    },
    {
      "cell_type": "code",
      "source": [
        "import itertools\n",
        "from matplotlib.colors import ListedColormap\n",
        "\n",
        "# Modified from A. Geron\n",
        "def plot_decision_boundary(clf, X, y, legend=False, plot_training=True, ax=None, figsize=(10,6)):\n",
        "\n",
        "    if not ax: f, ax = plt.subplots(figsize=figsize)\n",
        "\n",
        "    # Convert to numpy arrays in case X and y are data frames\n",
        "    X, y = np.array(X), np.array(y)\n",
        "\n",
        "    x1 = X[:,0] # First feature\n",
        "    x2 = X[:, 1] # Second feature\n",
        "\n",
        "\n",
        "    x1s = np.linspace(np.min(x1)-0.1*np.mean(x1), 1.1*np.max(x1), 100)\n",
        "    x2s = np.linspace(np.min(x2)-0.1*np.mean(x2), 1.1*np.max(x2), 100)\n",
        "    x1, x2 = np.meshgrid(x1s, x2s)\n",
        "    X_new = np.c_[x1.ravel(), x2.ravel()]\n",
        "\n",
        "    y_pred = clf.predict(X_new).reshape(x1.shape)\n",
        "\n",
        "    custom_cmap = ListedColormap(['#fafab0','#9898ff','#a0faa0'])\n",
        "    ax.contourf(x1, x2, y_pred, alpha=0.3, cmap=custom_cmap)\n",
        "\n",
        "    custom_cmap2 = ListedColormap(['#7d7d58','#4c4c7f','#507d50'])\n",
        "    ax.contour(x1, x2, y_pred, cmap=custom_cmap2, alpha=0.8)\n",
        "\n",
        "    dots = [\"yo\", \"bs\", \"g^\"]\n",
        "\n",
        "    if plot_training:\n",
        "        for i in np.unique(y):\n",
        "\n",
        "            ax.plot(X[:, 0][y==i], X[:, 1][y==i], dots[i], label=str(i))\n",
        "\n",
        "    else:\n",
        "        ax.set_xlabel(r\"$x_1$\", fontsize=18)\n",
        "        ax.set_ylabel(r\"$x_2$\", fontsize=18, rotation=0)\n",
        "    ax.legend(loc=\"lower right\", fontsize=14)\n",
        "    ax.set_title(\"Decision boundary\")\n",
        "\n",
        "    return ax"
      ],
      "metadata": {
        "id": "5nhnoqATIX9M"
      },
      "execution_count": null,
      "outputs": []
    },
    {
      "cell_type": "code",
      "source": [
        "fig, ax = plt.subplots()\n",
        "ax = plot_decision_boundary(tree_clf, X_train,y_train, ax=ax)\n",
        "plt.show()"
      ],
      "metadata": {
        "colab": {
          "base_uri": "https://localhost:8080/",
          "height": 457
        },
        "id": "P3Ws5B0RIZIM",
        "outputId": "402e72b6-65d9-4a63-b492-c9b8ed4e7301"
      },
      "execution_count": null,
      "outputs": [
        {
          "output_type": "display_data",
          "data": {
            "text/plain": [
              "<Figure size 640x480 with 1 Axes>"
            ],
            "image/png": "[encoded data removed]"
          },
          "metadata": {}
        }
      ]
    },
    {
      "cell_type": "code",
      "source": [],
      "metadata": {
        "id": "byTyCiGoS2Ao"
      },
      "execution_count": null,
      "outputs": []
    }
  ]
}