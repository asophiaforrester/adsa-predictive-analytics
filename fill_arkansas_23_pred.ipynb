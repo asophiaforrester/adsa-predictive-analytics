{
  "nbformat": 4,
  "nbformat_minor": 0,
  "metadata": {
    "colab": {
      "provenance": []
    },
    "kernelspec": {
      "name": "python3",
      "display_name": "Python 3"
    },
    "language_info": {
      "name": "python"
    }
  },
  "cells": [
    {
      "cell_type": "code",
      "execution_count": 1,
      "metadata": {
        "id": "GMEv-VmPUjmJ"
      },
      "outputs": [],
      "source": [
        "#Import libraries needed\n",
        "import pandas as pd\n",
        "import numpy as np\n",
        "import matplotlib.pyplot as plt\n",
        "import seaborn as sns\n",
        "from sklearn.linear_model import LinearRegression\n",
        "from sklearn.metrics import mean_squared_error as mse\n",
        "from sklearn.model_selection import train_test_split\n",
        "from sklearn.cluster import KMeans"
      ]
    },
    {
      "cell_type": "code",
      "source": [
        "#Import datasets *FILL IN HERE*\n",
        "arkansas ="
      ],
      "metadata": {
        "id": "wCmLVnFRzwbU"
      },
      "execution_count": 2,
      "outputs": []
    },
    {
      "cell_type": "code",
      "source": [
        "#See the data *FILL IN HERE*"
      ],
      "metadata": {
        "id": "vFA2QvW62bKp"
      },
      "execution_count": 3,
      "outputs": []
    },
    {
      "cell_type": "code",
      "source": [
        "#Dropping columns\n",
        "arkansas = arkansas.drop(columns = [\"GameId\", \"Week\", \"Team\", \"Opponent\"])"
      ],
      "metadata": {
        "id": "uMDE1qnbF2WL",
        "colab": {
          "base_uri": "https://localhost:8080/",
          "height": 197
        },
        "outputId": "e3bf76c2-ac22-41e7-a1b7-743674b7dcdc"
      },
      "execution_count": 4,
      "outputs": [
        {
          "output_type": "error",
          "ename": "NameError",
          "evalue": "ignored",
          "traceback": [
            "\u001b[0;31m---------------------------------------------------------------------------\u001b[0m",
            "\u001b[0;31mNameError\u001b[0m                                 Traceback (most recent call last)",
            "\u001b[0;32m<ipython-input-4-b5ca0fa7a666>\u001b[0m in \u001b[0;36m<cell line: 2>\u001b[0;34m()\u001b[0m\n\u001b[1;32m      1\u001b[0m \u001b[0;31m#Dropping columns\u001b[0m\u001b[0;34m\u001b[0m\u001b[0;34m\u001b[0m\u001b[0m\n\u001b[0;32m----> 2\u001b[0;31m \u001b[0markansas\u001b[0m \u001b[0;34m=\u001b[0m \u001b[0markansas\u001b[0m\u001b[0;34m.\u001b[0m\u001b[0mdrop\u001b[0m\u001b[0;34m(\u001b[0m\u001b[0mcolumns\u001b[0m \u001b[0;34m=\u001b[0m \u001b[0;34m[\u001b[0m\u001b[0;34m\"GameId\"\u001b[0m\u001b[0;34m,\u001b[0m \u001b[0;34m\"Week\"\u001b[0m\u001b[0;34m,\u001b[0m \u001b[0;34m\"Team\"\u001b[0m\u001b[0;34m,\u001b[0m \u001b[0;34m\"Opponent\"\u001b[0m\u001b[0;34m]\u001b[0m\u001b[0;34m)\u001b[0m\u001b[0;34m\u001b[0m\u001b[0;34m\u001b[0m\u001b[0m\n\u001b[0m",
            "\u001b[0;31mNameError\u001b[0m: name 'arkansas' is not defined"
          ]
        }
      ]
    },
    {
      "cell_type": "code",
      "source": [
        "#Creating correlation matrix object\n",
        "corr = arkansas.corr()"
      ],
      "metadata": {
        "id": "J20THPQ3DVGW"
      },
      "execution_count": null,
      "outputs": []
    },
    {
      "cell_type": "code",
      "source": [
        "def get_redundant_pairs(df):\n",
        "    '''Get diagonal and lower triangular pairs of correlation matrix'''\n",
        "    pairs_to_drop = set()\n",
        "    cols = df.columns\n",
        "    for i in range(0, df.shape[1]):\n",
        "        for j in range(0, i+1):\n",
        "            pairs_to_drop.add((cols[i], cols[j]))\n",
        "    return pairs_to_drop\n",
        "\n",
        "def get_top_abs_correlations(df, n=5):\n",
        "    au_corr = df.corr().abs().unstack()\n",
        "    labels_to_drop = get_redundant_pairs(df)\n",
        "    au_corr = au_corr.drop(labels=labels_to_drop).sort_values(ascending=False)\n",
        "    return au_corr[0:n]\n",
        "\n",
        "print(\"Top Absolute Correlations\")\n",
        "print(get_top_abs_correlations(corr, 20))"
      ],
      "metadata": {
        "id": "TRnIlLVtDT04"
      },
      "execution_count": null,
      "outputs": []
    },
    {
      "cell_type": "code",
      "source": [
        "#For regression, we preproccess the data *CHOOSE DESIRED PREDICTOR (ONLY 1) *INPUT WHERE IT SAYS TO INPUT*\n",
        "X = arkansas[[\"FILL IN HERE\"]]\n",
        "y = arkansas[[\"Points\"]]"
      ],
      "metadata": {
        "id": "7i4DlZhRHLuQ"
      },
      "execution_count": null,
      "outputs": []
    },
    {
      "cell_type": "code",
      "source": [
        "#Split the data for training and testing\n",
        "Xtrain, Xtest, ytrain, ytest = train_test_split(X, y, test_size = 0.3)"
      ],
      "metadata": {
        "id": "AmXn_JTV0cYl"
      },
      "execution_count": null,
      "outputs": []
    },
    {
      "cell_type": "code",
      "source": [
        "#Apply linear regression\n",
        "reg = LinearRegression().fit(X, y)"
      ],
      "metadata": {
        "id": "l-5OE71R0hhv"
      },
      "execution_count": null,
      "outputs": []
    },
    {
      "cell_type": "code",
      "source": [
        "#Compute training error\n",
        "mse_train = mse(ytrain, reg.predict(Xtrain))\n",
        "print(mse_train)\n",
        "\n",
        "#Compute testing error\n",
        "mse_test = mse(ytest, reg.predict(Xtest))\n",
        "print(mse_test)"
      ],
      "metadata": {
        "id": "GvvLub350rfX"
      },
      "execution_count": null,
      "outputs": []
    },
    {
      "cell_type": "code",
      "source": [
        "# Visualize the result *CHANGE PREDICTOR VARIABLE TO MATCH WHAT YOU CHANGED A FEW CHUNKS AGO*\n",
        "import seaborn as sns\n",
        "sns.set(style=\"darkgrid\")\n",
        "fig, ax = plt.subplots()\n",
        "ax.scatter(arkansas[[\"FILL IN HERE\"]], y, marker='o')\n",
        "x_axis = np.linspace(np.min(arkansas[[\"FILL IN HERE\"]]), np.max(arkansas[[\"FILL IN HERE\"]]), 500)\n",
        "y_axis = reg.coef_[0,0] * x_axis + reg.intercept_\n",
        "ax.plot(x_axis, y_axis)\n",
        "plt.show()\n"
      ],
      "metadata": {
        "id": "_zMyf3Jy0tKi"
      },
      "execution_count": null,
      "outputs": []
    },
    {
      "cell_type": "code",
      "source": [
        "#Assigning predictors and result variables *FILL IN WITH DESIRED PREDICTORS WHERE IT SAYS\n",
        "data = arkansas[[\"FILL IN HERE\", \"FILL IN HERE\", \"Result\"]]"
      ],
      "metadata": {
        "id": "VvKWNQHdFF7R"
      },
      "execution_count": null,
      "outputs": []
    },
    {
      "cell_type": "code",
      "source": [
        "#Try now with decision trees\n",
        "#FILL IN TO MATCH PREDICTORS ABOVE\n",
        "#0= loss, 1 = win\n",
        "from sklearn.tree import DecisionTreeRegressor\n",
        "fig, ax = plt.subplots()\n",
        "sns.scatterplot(data=data, x=\"FILL IN HERE\", y=\"FILL IN HERE\", hue='Result', ax=ax)\n",
        "plt.show()\n"
      ],
      "metadata": {
        "id": "WfjiDfXBBi0o"
      },
      "execution_count": null,
      "outputs": []
    },
    {
      "cell_type": "code",
      "source": [
        "from sklearn.tree import DecisionTreeClassifier, plot_tree, DecisionTreeRegressor"
      ],
      "metadata": {
        "id": "jw4f-_z5FW0c"
      },
      "execution_count": null,
      "outputs": []
    },
    {
      "cell_type": "code",
      "source": [
        "#CHANGE TO MATCH PREDICTOR ABOVE\n",
        "X=data[[\"FILL IN HERE\", \"FILL IN HERE\"]].values # The features\n",
        "y=data['Result'].values # The labels"
      ],
      "metadata": {
        "id": "WVeOZdPJHwRm"
      },
      "execution_count": null,
      "outputs": []
    },
    {
      "cell_type": "code",
      "source": [
        "X_train, X_test, y_train, y_test = train_test_split(X, y, stratify=y, random_state=42)"
      ],
      "metadata": {
        "id": "rRka8fW_FXNy"
      },
      "execution_count": null,
      "outputs": []
    },
    {
      "cell_type": "code",
      "source": [
        "tree_clf = DecisionTreeClassifier(criterion='entropy', max_depth=2, random_state=42)"
      ],
      "metadata": {
        "id": "NTMfRj9iIIzY"
      },
      "execution_count": null,
      "outputs": []
    },
    {
      "cell_type": "code",
      "source": [
        "tree_clf.fit(X_train, y_train)"
      ],
      "metadata": {
        "id": "d52TGsW-INoo"
      },
      "execution_count": null,
      "outputs": []
    },
    {
      "cell_type": "code",
      "source": [
        "# plot_tree(tree_clf)\n",
        "#FILL IN WITH DESIRED PREDICTORS\n",
        "plot_tree(tree_clf, feature_names=[\"FILL IN HERE\", \"FILL IN HERE\"], class_names=['lose', 'win'])"
      ],
      "metadata": {
        "id": "F5t2NjcNH_C9"
      },
      "execution_count": null,
      "outputs": []
    },
    {
      "cell_type": "code",
      "source": [
        "import itertools\n",
        "from matplotlib.colors import ListedColormap\n",
        "\n",
        "# Modified from A. Geron\n",
        "def plot_decision_boundary(clf, X, y, legend=False, plot_training=True, ax=None, figsize=(10,6)):\n",
        "\n",
        "    if not ax: f, ax = plt.subplots(figsize=figsize)\n",
        "\n",
        "    # Convert to numpy arrays in case X and y are data frames\n",
        "    X, y = np.array(X), np.array(y)\n",
        "\n",
        "    x1 = X[:,0] # First feature\n",
        "    x2 = X[:, 1] # Second feature\n",
        "\n",
        "\n",
        "    x1s = np.linspace(np.min(x1)-0.1*np.mean(x1), 1.1*np.max(x1), 100)\n",
        "    x2s = np.linspace(np.min(x2)-0.1*np.mean(x2), 1.1*np.max(x2), 100)\n",
        "    x1, x2 = np.meshgrid(x1s, x2s)\n",
        "    X_new = np.c_[x1.ravel(), x2.ravel()]\n",
        "\n",
        "    y_pred = clf.predict(X_new).reshape(x1.shape)\n",
        "\n",
        "    custom_cmap = ListedColormap(['#fafab0','#9898ff','#a0faa0'])\n",
        "    ax.contourf(x1, x2, y_pred, alpha=0.3, cmap=custom_cmap)\n",
        "\n",
        "    custom_cmap2 = ListedColormap(['#7d7d58','#4c4c7f','#507d50'])\n",
        "    ax.contour(x1, x2, y_pred, cmap=custom_cmap2, alpha=0.8)\n",
        "\n",
        "    dots = [\"yo\", \"bs\", \"g^\"]\n",
        "\n",
        "    if plot_training:\n",
        "        for i in np.unique(y):\n",
        "\n",
        "            ax.plot(X[:, 0][y==i], X[:, 1][y==i], dots[i], label=str(i))\n",
        "\n",
        "    else:\n",
        "        ax.set_xlabel(r\"$x_1$\", fontsize=18)\n",
        "        ax.set_ylabel(r\"$x_2$\", fontsize=18, rotation=0)\n",
        "    ax.legend(loc=\"lower right\", fontsize=14)\n",
        "    ax.set_title(\"Decision boundary\")\n",
        "\n",
        "    return ax"
      ],
      "metadata": {
        "id": "5nhnoqATIX9M"
      },
      "execution_count": null,
      "outputs": []
    },
    {
      "cell_type": "code",
      "source": [
        "fig, ax = plt.subplots()\n",
        "ax = plot_decision_boundary(tree_clf, X_train,y_train, ax=ax)\n",
        "plt.show()"
      ],
      "metadata": {
        "id": "P3Ws5B0RIZIM"
      },
      "execution_count": null,
      "outputs": []
    }
  ]
}